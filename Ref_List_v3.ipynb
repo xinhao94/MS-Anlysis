{
  "nbformat": 4,
  "nbformat_minor": 0,
  "metadata": {
    "colab": {
      "name": "Ref List v3.ipynb",
      "provenance": []
    },
    "kernelspec": {
      "name": "python3",
      "display_name": "Python 3"
    }
  },
  "cells": [
    {
      "cell_type": "markdown",
      "metadata": {
        "id": "KEkGBckmET6o",
        "colab_type": "text"
      },
      "source": [
        "Create a dictionary for all unique building blocks\n",
        "\n",
        "PN = Asp/Gln, PU = Asp/Glu, NN = Asn/Gln, NU = Asn/Glu\n",
        "\n",
        "First number represents O-acetylation, second number represents N-deacetylation\n",
        "\n",
        "e.g. PN00: Asp/Gln, no O-acetylation, no N-deacetylation"
      ]
    },
    {
      "cell_type": "code",
      "metadata": {
        "id": "eR5fH6uoEO8n",
        "colab_type": "code",
        "colab": {}
      },
      "source": [
        "blocks = {'PN00':1009.4452, 'PN10':1051.4557, 'PN01':967.4346, 'PN11':1009.4452,\n",
        "          'PU00':1010.4292, 'PU10':1052.4397, 'PU01':968.4186, 'PU11':1010.4292,\n",
        "          'NN00':1008.4611, 'NN10':1050.4717, 'NN01':966.4506, 'NN11':1008.4611,\n",
        "          'NU00':1009.4452, 'NU10':1051.4557, 'NU01':967.4346, 'NU11':1009.4452}\n",
        "\n",
        "\n",
        "water = 18.0106\n",
        "ala = 89.0477\n",
        "lactate = 90.0317\n",
        "asp = 133.0375\n",
        "asn = 132.0535\n",
        "\n",
        "# Threshold for MS value comparison\n",
        "thres = 0.05\n",
        "# Decimal place for MW calculation\n",
        "round_pos = 4\n",
        "\n",
        "print(len(blocks))"
      ],
      "execution_count": 0,
      "outputs": []
    },
    {
      "cell_type": "markdown",
      "metadata": {
        "id": "fOkWf75sOs9r",
        "colab_type": "text"
      },
      "source": [
        "Create a dictionary for monomers"
      ]
    },
    {
      "cell_type": "code",
      "metadata": {
        "id": "A826XpdPOzZL",
        "colab_type": "code",
        "colab": {}
      },
      "source": [
        "monomers = {}\n",
        "for key, value in blocks.items():\n",
        "  new_key = key\n",
        "  new_value = round(value, round_pos)\n",
        "  monomers[new_key] = new_value\n",
        "\n",
        "i = 0\n",
        "for key, value in monomers.items():\n",
        "  if i<10:\n",
        "    print(key, ': ', value)\n",
        "    i += 1\n",
        "  else:\n",
        "    break\n",
        "print(len(monomers))"
      ],
      "execution_count": 0,
      "outputs": []
    },
    {
      "cell_type": "markdown",
      "metadata": {
        "id": "v-fUIK4JO7VJ",
        "colab_type": "text"
      },
      "source": [
        "Create a dictionary for dimers\n",
        "\n",
        "Use '-' as separation between individual blocks"
      ]
    },
    {
      "cell_type": "code",
      "metadata": {
        "id": "-zzVKlGdO7Eo",
        "colab_type": "code",
        "colab": {}
      },
      "source": [
        "dimers = {}\n",
        "for key1, value1 in monomers.items():\n",
        "  for key2, value2 in blocks.items():\n",
        "    new_key = key1 + '-' + key2\n",
        "    new_value = round(value1+value2, round_pos)\n",
        "    dimers[new_key] = new_value\n",
        "\n",
        "i = 0\n",
        "for key, value in dimers.items():\n",
        "  if i<10:\n",
        "    print(key, ': ', value)\n",
        "    i += 1\n",
        "  else:\n",
        "    break\n",
        "print(len(dimers))"
      ],
      "execution_count": 0,
      "outputs": []
    },
    {
      "cell_type": "markdown",
      "metadata": {
        "id": "fCiTuTE1PnBC",
        "colab_type": "text"
      },
      "source": [
        "Create a dictionary for trimers\n",
        "\n",
        "Use '-' as separation between individual blocks"
      ]
    },
    {
      "cell_type": "code",
      "metadata": {
        "id": "APikFTE-PpCs",
        "colab_type": "code",
        "colab": {}
      },
      "source": [
        "trimers = {}\n",
        "for key1, value1 in dimers.items():\n",
        "  for key2, value2 in blocks.items():\n",
        "    new_key = key1 + '-' + key2\n",
        "    new_value = round(value1+value2, round_pos)\n",
        "    trimers[new_key] = new_value\n",
        "\n",
        "i = 0\n",
        "for key, value in trimers.items():\n",
        "  if i<10:\n",
        "    print(key, ': ', value)\n",
        "    i += 1\n",
        "  else:\n",
        "    break\n",
        "print(len(trimers))"
      ],
      "execution_count": 0,
      "outputs": []
    },
    {
      "cell_type": "markdown",
      "metadata": {
        "id": "273ZKOO0QHba",
        "colab_type": "text"
      },
      "source": [
        "Combine monomers, dimers, and trimers as list \"Raw Final A\""
      ]
    },
    {
      "cell_type": "code",
      "metadata": {
        "id": "vWHfnbC_QMJy",
        "colab_type": "code",
        "colab": {}
      },
      "source": [
        "raw_final_A = {}\n",
        "raw_final_A.update(monomers)\n",
        "raw_final_A.update(dimers)\n",
        "raw_final_A.update(trimers)\n",
        "\n",
        "i = 0\n",
        "for key, value in raw_final_A.items():\n",
        "  if i<10:\n",
        "    print(key, ': ', value)\n",
        "    i += 1\n",
        "  else:\n",
        "    break\n",
        "print(len(raw_final_A))"
      ],
      "execution_count": 0,
      "outputs": []
    },
    {
      "cell_type": "markdown",
      "metadata": {
        "id": "HmmqiISDQW3l",
        "colab_type": "text"
      },
      "source": [
        "Account for removing (R) bridge for the first unit\n",
        "\n",
        "'R' = Removed, 'N' = Not removed\n",
        "\n",
        "Store the result in list \"Raw Final B\""
      ]
    },
    {
      "cell_type": "code",
      "metadata": {
        "id": "AK4WXaJuQhld",
        "colab_type": "code",
        "colab": {}
      },
      "source": [
        "raw_final_B = {}\n",
        "for key, value in raw_final_A.items():\n",
        "  # Get the property of the first unit\n",
        "  c_string = key.split('-')[0]\n",
        "  # Determine the type of the bridge (Asp? Asn?)\n",
        "  # The bridge is Asp when the first char is 'P'\n",
        "  if c_string[0]=='P':\n",
        "    bridge = asp\n",
        "  else:\n",
        "    bridge = asn\n",
        "  # Add items without removing the Asp bridge\n",
        "  new_key_N = key + '-N'\n",
        "  new_value_N = value\n",
        "  raw_final_B[new_key_N] = new_value_N\n",
        "  # Add items with the Asp bridge removed\n",
        "  new_key_R = key + '-R'\n",
        "  new_value_R = round(value-bridge+water, round_pos)\n",
        "  raw_final_B[new_key_R] = new_value_R\n",
        "\n",
        "i = 0\n",
        "for key, value in raw_final_B.items():\n",
        "  if i<10:\n",
        "    print(key, ': ', value)\n",
        "    i += 1\n",
        "  else:\n",
        "    break\n",
        "print(len(raw_final_B))\n"
      ],
      "execution_count": 0,
      "outputs": []
    },
    {
      "cell_type": "markdown",
      "metadata": {
        "id": "LPnEgpmsSfYD",
        "colab_type": "text"
      },
      "source": [
        "Account for the amino acid variation for the last unit\n",
        "\n",
        "'3' = 3 alaines, '4' = 4 alanines, '5' = 5 alanies\n",
        "\n",
        "Store the result in list \"Raw Final C\""
      ]
    },
    {
      "cell_type": "code",
      "metadata": {
        "id": "iwv5JvigRWMF",
        "colab_type": "code",
        "colab": {}
      },
      "source": [
        "raw_final_C = {}\n",
        "for key, value in raw_final_B.items():\n",
        "  # Add items with one alanine removed\n",
        "  new_key_3 = key + '3'\n",
        "  new_value_3 = round(value-ala+water, round_pos)\n",
        "  raw_final_C[new_key_3] = new_value_3\n",
        "  # Add items without any change\n",
        "  new_key_4 = key + '4'\n",
        "  new_value_4 = value\n",
        "  raw_final_C[new_key_4] = new_value_4\n",
        "  # Add items with one extra alanine\n",
        "  new_key_5 = key + '5'\n",
        "  new_value_5 = round(value+ala-water, round_pos)\n",
        "  raw_final_C[new_key_5] = new_value_5\n",
        "\n",
        "\n",
        "i = 0\n",
        "for key, value in raw_final_C.items():\n",
        "  if i<10:\n",
        "    print(key, ': ', value)\n",
        "    i += 1\n",
        "  else:\n",
        "    break\n",
        "    \n",
        "print(len(raw_final_C))"
      ],
      "execution_count": 0,
      "outputs": []
    },
    {
      "cell_type": "markdown",
      "metadata": {
        "id": "chiiQM8ySu1k",
        "colab_type": "text"
      },
      "source": [
        "Account for the cyclization of aspartic acids\n",
        "\n",
        "For each cyclization event, one moleclue of water is lost\n",
        "\n",
        "'C0' = No cyclization, 'C1' = 1 cyclization event, etc\n",
        "\n",
        "Store the result in list \"Raw Final D\""
      ]
    },
    {
      "cell_type": "code",
      "metadata": {
        "id": "Oq3NeoJpSzrV",
        "colab_type": "code",
        "colab": {}
      },
      "source": [
        "# Helper function to calculate number of asp bridges\n",
        "# based on the characteriztic string\n",
        "def asp_bridge(c_string):\n",
        "  ans = -1\n",
        "  # Generally, the maximum cyclization event is\n",
        "  # the number of character 'P'\n",
        "  c_strs = c_string.split('-')\n",
        "  # Get the total number of units\n",
        "  n_units = len(c_strs)-1\n",
        "  # Get the count of character 'P'\n",
        "  p_count = 0\n",
        "  for i in range(n_units):\n",
        "    if c_strs[i][0]=='P':\n",
        "      p_count += 1\n",
        "    else:\n",
        "      continue\n",
        "  # However, when the bridge is removed\n",
        "  # available cyclization site is reduced by 1\n",
        "  if c_strs[0][0]=='P' and c_strs[-1][0] == 'R':\n",
        "    p_count -= 1\n",
        "  \n",
        "  ans = p_count\n",
        "  return ans\n"
      ],
      "execution_count": 0,
      "outputs": []
    },
    {
      "cell_type": "code",
      "metadata": {
        "id": "5M9qN5nRWeIj",
        "colab_type": "code",
        "colab": {}
      },
      "source": [
        "raw_final_D = {}\n",
        "for key, value in raw_final_C.items():\n",
        "  cyc_max = asp_bridge(key)\n",
        "  # Add the item without any cyclization first\n",
        "  new_key = key + 'C0'\n",
        "  new_value = value\n",
        "  raw_final_D[new_key] = new_value\n",
        "  # Add all items with at least 1 cyclization\n",
        "  cyc_num = 1\n",
        "  while cyc_num<=cyc_max:\n",
        "    new_key_C = key + 'C' + str(cyc_num)\n",
        "    new_value_C = round(value-cyc_num*water, round_pos)\n",
        "    raw_final_D[new_key_C] = new_value_C\n",
        "    cyc_num += 1\n",
        "\n",
        "i = 0\n",
        "for key, value in raw_final_D.items():\n",
        "  if i<20:\n",
        "    print(key, ': ', value)\n",
        "    i += 1\n",
        "  else:\n",
        "    break\n",
        "\n",
        "print(len(raw_final_D))"
      ],
      "execution_count": 0,
      "outputs": []
    },
    {
      "cell_type": "markdown",
      "metadata": {
        "id": "ilsDBSwuaN3P",
        "colab_type": "text"
      },
      "source": [
        "Output the final list as a CSV file"
      ]
    },
    {
      "cell_type": "code",
      "metadata": {
        "id": "YWmajd38aOhx",
        "colab_type": "code",
        "colab": {}
      },
      "source": [
        "import csv\n",
        "\n",
        "output_file_name = 'RefList_v3.csv'\n",
        "final = raw_final_D\n",
        "with open(output_file_name, 'w') as f:\n",
        "  f.write(\"Index, Property, Molecular weight\\n\")\n",
        "  i = 1\n",
        "  for key in final.keys():\n",
        "    f.write(\"%d,%s,%s\\n\"%(i, key, final[key]))\n",
        "    i = i+1"
      ],
      "execution_count": 0,
      "outputs": []
    },
    {
      "cell_type": "markdown",
      "metadata": {
        "id": "RDnVYZupabPJ",
        "colab_type": "text"
      },
      "source": [
        "Download the output file from Google Colab workspace"
      ]
    },
    {
      "cell_type": "code",
      "metadata": {
        "id": "E8CnZRFcacFy",
        "colab_type": "code",
        "colab": {}
      },
      "source": [
        "!ls\n",
        "from google.colab import files\n",
        "files.download(output_file_name)"
      ],
      "execution_count": 0,
      "outputs": []
    }
  ]
}