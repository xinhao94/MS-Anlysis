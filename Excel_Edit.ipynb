{
  "nbformat": 4,
  "nbformat_minor": 0,
  "metadata": {
    "colab": {
      "name": "Excel Edit.ipynb",
      "provenance": []
    },
    "kernelspec": {
      "name": "python3",
      "display_name": "Python 3"
    }
  },
  "cells": [
    {
      "cell_type": "markdown",
      "metadata": {
        "id": "6S5nwlnayDyJ",
        "colab_type": "text"
      },
      "source": [
        "Upload the analysis file and original data onto Google Colab workspace"
      ]
    },
    {
      "cell_type": "code",
      "metadata": {
        "id": "N3UpKwygyF1Q",
        "colab_type": "code",
        "colab": {}
      },
      "source": [
        "!ls\n",
        "from google.colab import files\n",
        "files.upload()"
      ],
      "execution_count": 0,
      "outputs": []
    },
    {
      "cell_type": "markdown",
      "metadata": {
        "id": "6noY64wO5cSY",
        "colab_type": "text"
      },
      "source": [
        "Install package for excel file edit"
      ]
    },
    {
      "cell_type": "code",
      "metadata": {
        "id": "_5fruDNa5IZD",
        "colab_type": "code",
        "colab": {}
      },
      "source": [
        "!pip install xlrd\n",
        "!pip install xlwt\n",
        "!pip install xlutils"
      ],
      "execution_count": 0,
      "outputs": []
    },
    {
      "cell_type": "markdown",
      "metadata": {
        "id": "PHH-CCR3xWF4",
        "colab_type": "text"
      },
      "source": [
        "Read analysis file and store the indices in a set"
      ]
    },
    {
      "cell_type": "code",
      "metadata": {
        "id": "VrO_XgEfxRVc",
        "colab_type": "code",
        "colab": {}
      },
      "source": [
        "import csv\n",
        "\n",
        "file_name = 'anc_AspGln_analysis.csv'\n",
        "\n",
        "index_list = []\n",
        "\n",
        "\n",
        "# Record all original indices\n",
        "with open(file_name, newline='') as csvfile:\n",
        "  mycsv = csv.reader(csvfile)\n",
        "  # Skip the header\n",
        "  next(mycsv)\n",
        "  for row in mycsv:\n",
        "    count = int(row[2])\n",
        "    curr = 3\n",
        "    while curr<=(count+2):\n",
        "      index_list.append(int(row[curr]))\n",
        "      curr += 1\n",
        "\n",
        "print(index_list)\n",
        "print(len(index_list))\n",
        "\n",
        "# Obtain unique indices by converting list to set\n",
        "index_set = set(index_list)\n",
        "index_set = sorted(index_set)\n",
        "print(index_set)\n",
        "print(len(index_set))\n",
        "\n",
        "# Get the row number in excel files\n",
        "# For x in index list, get x+2 row\n",
        "row_set = []\n",
        "for i in range(len(index_set)):\n",
        "  row_set.append(index_set[i]+2)\n",
        "\n",
        "print(row_set)\n",
        "print(len(row_set))"
      ],
      "execution_count": 0,
      "outputs": []
    },
    {
      "cell_type": "markdown",
      "metadata": {
        "id": "PPMRVN4j6TC5",
        "colab_type": "text"
      },
      "source": [
        "Store the original data into a dictionary"
      ]
    },
    {
      "cell_type": "code",
      "metadata": {
        "id": "ggrwc8RZ6VY7",
        "colab_type": "code",
        "colab": {}
      },
      "source": [
        "import xlrd\n",
        "\n",
        "original_filename = '11112019_Ancestor_Report02.xlsx'\n",
        "\n",
        "# Import the excel file\n",
        "ori_file = xlrd.open_workbook(original_filename)\n",
        "\n",
        "# Import the first sheet\n",
        "table = ori_file.sheets()[0]\n",
        "\n",
        "# Get number of rows and columns of the sheet\n",
        "nrows = table.nrows\n",
        "ncols = table.ncols\n",
        "\n",
        "# Read all contents into a dictionary,\n",
        "# where key is row index and value is a list of all information\n",
        "content = {}\n",
        "for i in range(nrows-1):\n",
        "  content[i+1] = []\n",
        "  for j in range(ncols):\n",
        "    content[i+1].append(table.cell(i, j).value)\n",
        "\n",
        "print(content)\n",
        "\n"
      ],
      "execution_count": 0,
      "outputs": []
    },
    {
      "cell_type": "markdown",
      "metadata": {
        "id": "SRDo-sCjD6ly",
        "colab_type": "text"
      },
      "source": [
        "Get specific rows from the original file\n",
        "\n",
        "Wrtie the row into a new sheet"
      ]
    },
    {
      "cell_type": "code",
      "metadata": {
        "id": "HAhBuTL7CynZ",
        "colab_type": "code",
        "colab": {}
      },
      "source": [
        "import xlwt\n",
        "from xlutils.copy import copy as xl_copy\n",
        "\n",
        "filtered_filename = original_filename.split('.')[0] + '_filtered.xls'\n",
        "\n",
        "\n",
        "# Make a copy of the original data file\n",
        "workbook = xl_copy(ori_file)\n",
        "\n",
        "# Create a new sheet in the excel file\n",
        "sheet = workbook.add_sheet('filtered')\n",
        "\n",
        "# Write the header\n",
        "for j in range(ncols):\n",
        "  sheet.write(0, j, content[1][j])\n",
        "\n",
        "# Write specific rows\n",
        "for i in range(len(row_set)):\n",
        "  for j in range(ncols):\n",
        "    curr = content[row_set[i]][j]\n",
        "    sheet.write(i+1, j, curr)\n",
        "\n",
        "# Save the file\n",
        "workbook.save(filtered_filename)\n",
        "\n",
        "print(filtered_filename)"
      ],
      "execution_count": 0,
      "outputs": []
    },
    {
      "cell_type": "code",
      "metadata": {
        "id": "12u0QEQzGUdI",
        "colab_type": "code",
        "colab": {}
      },
      "source": [
        "!ls\n",
        "files.download(filtered_filename)"
      ],
      "execution_count": 0,
      "outputs": []
    }
  ]
}