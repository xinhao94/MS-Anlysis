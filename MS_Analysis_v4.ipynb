{
  "nbformat": 4,
  "nbformat_minor": 0,
  "metadata": {
    "colab": {
      "name": "MS Analysis v4.ipynb",
      "provenance": []
    },
    "kernelspec": {
      "name": "python3",
      "display_name": "Python 3"
    }
  },
  "cells": [
    {
      "cell_type": "markdown",
      "metadata": {
        "id": "UkiBbuaMyxf7",
        "colab_type": "text"
      },
      "source": [
        "Upload the reference list and the raw data onto Google Colab workspace"
      ]
    },
    {
      "cell_type": "code",
      "metadata": {
        "id": "QZ4bWKfVywNp",
        "colab_type": "code",
        "colab": {}
      },
      "source": [
        "!ls\n",
        "from google.colab import files\n",
        "files.upload()"
      ],
      "execution_count": 0,
      "outputs": []
    },
    {
      "cell_type": "markdown",
      "metadata": {
        "id": "D8ctvnisztTk",
        "colab_type": "text"
      },
      "source": [
        "Verify uploading"
      ]
    },
    {
      "cell_type": "code",
      "metadata": {
        "id": "w7ngXj78zb4Y",
        "colab_type": "code",
        "colab": {}
      },
      "source": [
        "!ls"
      ],
      "execution_count": 0,
      "outputs": []
    },
    {
      "cell_type": "markdown",
      "metadata": {
        "id": "9kDD_RRszxqM",
        "colab_type": "text"
      },
      "source": [
        "Convert CSV file for the ref list to dictionary"
      ]
    },
    {
      "cell_type": "code",
      "metadata": {
        "id": "5npzCzW6z0K-",
        "colab_type": "code",
        "colab": {}
      },
      "source": [
        "import csv\n",
        "\n",
        "ref_list_name = 'RefList_v3.csv'\n",
        "\n",
        "ref = {}\n",
        "\n",
        "with open(ref_list_name, newline='') as csvfile:\n",
        "  mycsv = csv.reader(csvfile)\n",
        "  # Skip the header\n",
        "  next(mycsv)\n",
        "  index = 1\n",
        "  for row in mycsv:\n",
        "    new_key = index\n",
        "    new_value = []\n",
        "    new_value.append(row[1])\n",
        "    new_value.append(row[2])\n",
        "    ref[new_key] = new_value\n",
        "    index += 1\n",
        "\n",
        "print(len(ref))\n",
        "print(ref[1])\n",
        "print(ref[20])"
      ],
      "execution_count": 0,
      "outputs": []
    },
    {
      "cell_type": "markdown",
      "metadata": {
        "id": "12BnGa-E41e9",
        "colab_type": "text"
      },
      "source": [
        "Convert CSV file for the raw data to list"
      ]
    },
    {
      "cell_type": "code",
      "metadata": {
        "id": "13eg-gmR46a_",
        "colab_type": "code",
        "colab": {}
      },
      "source": [
        "raw_data_name = 'anc.csv'\n",
        "\n",
        "raw = {}\n",
        "\n",
        "with open(raw_data_name, newline='') as csvfile:\n",
        "  mycsv = csv.reader(csvfile)\n",
        "  # Skip the header\n",
        "  next(mycsv)\n",
        "  index = 1\n",
        "  for row in mycsv:\n",
        "    new_key = index\n",
        "    new_value = row[0]\n",
        "    raw[new_key] = new_value\n",
        "    index += 1\n",
        "\n",
        "print(len(raw))\n",
        "print(raw[1])\n",
        "print(raw[10])"
      ],
      "execution_count": 0,
      "outputs": []
    },
    {
      "cell_type": "markdown",
      "metadata": {
        "id": "xbstvRUJfAxE",
        "colab_type": "text"
      },
      "source": [
        "Install the progress bar package"
      ]
    },
    {
      "cell_type": "code",
      "metadata": {
        "id": "UGHL0dw3eZYz",
        "colab_type": "code",
        "colab": {}
      },
      "source": [
        "!pip install tqdm"
      ],
      "execution_count": 0,
      "outputs": []
    },
    {
      "cell_type": "markdown",
      "metadata": {
        "id": "evcRNuYCPEO2",
        "colab_type": "text"
      },
      "source": [
        "Implement the analysis"
      ]
    },
    {
      "cell_type": "code",
      "metadata": {
        "id": "vIyhCDOQLoul",
        "colab_type": "code",
        "colab": {}
      },
      "source": [
        "from tqdm.notebook import tqdm\n",
        "\n",
        "# Set threshold as needed\n",
        "thres_ppm = 50\n",
        "thres = thres_ppm/1000000\n",
        "# Structure of item analysis: {str:[hit counter, index, index...]}\n",
        "analysis = {}\n",
        "\n",
        "# Iterate through all elements in raw data\n",
        "for i in tqdm(range(len(ref)), desc='Progress'):\n",
        "  curr_ref_key = ref[i+1][0]\n",
        "  curr_ref_value = float(ref[i+1][1])\n",
        "  # Compare the current elements with all elements in the reference\n",
        "  for j in range(len(raw)):\n",
        "    curr_raw = float(raw[j+1])\n",
        "    # If the difference is less than threshold\n",
        "    if abs((curr_ref_value-curr_raw)/curr_ref_value)<=thres:\n",
        "      # If the key has never been recorded, record it\n",
        "      # Also record the index in original data\n",
        "      if j+1 not in analysis.keys():\n",
        "        analysis[j+1] = [curr_raw]\n",
        "        analysis[j+1].append(1)\n",
        "        analysis[j+1].append(curr_ref_key)\n",
        "      # If the key has been recorded, update the counter\n",
        "      # Also record the index in original data\n",
        "      else:\n",
        "        analysis[j+1][1] += 1\n",
        "        analysis[j+1].append(curr_ref_key)\n",
        "    # If the difference is more than threshold, compare the next\n",
        "    else:\n",
        "      continue\n",
        "\n",
        "print('Length: ', len(analysis))\n"
      ],
      "execution_count": 0,
      "outputs": []
    },
    {
      "cell_type": "code",
      "metadata": {
        "id": "5WOdMd8GNqdT",
        "colab_type": "code",
        "colab": {}
      },
      "source": [
        "print(analysis[4630])"
      ],
      "execution_count": 0,
      "outputs": []
    },
    {
      "cell_type": "markdown",
      "metadata": {
        "id": "wQGNGvxYQKE9",
        "colab_type": "text"
      },
      "source": [
        "Export the result as a csv file"
      ]
    },
    {
      "cell_type": "code",
      "metadata": {
        "id": "OVRMHm-MNocj",
        "colab_type": "code",
        "colab": {}
      },
      "source": [
        "root_name = raw_data_name.split('.')[0]\n",
        "\n",
        "'''\n",
        "# Output the hit analysis\n",
        "output_file_name = root_name + '_' + combi_code[code] + '_analysis.csv'\n",
        "'''\n",
        "\n",
        "output_file_name = root_name + '_analysis_v2.csv'\n",
        "with open(output_file_name, 'w') as f:\n",
        "  f.write(\"Original index, Neutral mass, Hit count, Property\\n\")\n",
        "  for key, value in analysis.items():\n",
        "    # Write index, charateristic string and hit count\n",
        "    f.write(\"%d,%s,%s\"%(key, value[0], value[1]))\n",
        "    j = 0\n",
        "    # Write all hit index\n",
        "    while j<value[1]:\n",
        "      f.write(\",%s\"%value[2+j])\n",
        "      j += 1\n",
        "    f.write(\"\\n\")\n",
        "\n"
      ],
      "execution_count": 0,
      "outputs": []
    },
    {
      "cell_type": "markdown",
      "metadata": {
        "id": "aL9hMfXORCkA",
        "colab_type": "text"
      },
      "source": [
        "Download the output file"
      ]
    },
    {
      "cell_type": "code",
      "metadata": {
        "id": "LoXyuBmhRB8H",
        "colab_type": "code",
        "colab": {}
      },
      "source": [
        "!ls\n",
        "files.download(output_file_name)"
      ],
      "execution_count": 0,
      "outputs": []
    },
    {
      "cell_type": "code",
      "metadata": {
        "id": "hC1AW0zfiwbT",
        "colab_type": "code",
        "colab": {}
      },
      "source": [
        "k = 0\n",
        "for i in tqdm(range(20)):\n",
        "  k += 1\n",
        "  print(k)"
      ],
      "execution_count": 0,
      "outputs": []
    }
  ]
}